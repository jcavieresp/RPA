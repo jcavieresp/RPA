{
 "cells": [
  {
   "cell_type": "code",
   "execution_count": 1,
   "metadata": {},
   "outputs": [
    {
     "ename": "NameError",
     "evalue": "name 'WebDriverWait' is not defined",
     "output_type": "error",
     "traceback": [
      "\u001b[0;31m---------------------------------------------------------------------------\u001b[0m",
      "\u001b[0;31mNameError\u001b[0m                                 Traceback (most recent call last)",
      "Cell \u001b[0;32mIn[1], line 11\u001b[0m\n\u001b[1;32m      8\u001b[0m element \u001b[38;5;241m=\u001b[39m driver\u001b[38;5;241m.\u001b[39mfind_element(\u001b[38;5;124m\"\u001b[39m\u001b[38;5;124mid\u001b[39m\u001b[38;5;124m\"\u001b[39m, \u001b[38;5;124m\"\u001b[39m\u001b[38;5;124msinAutenticacion\u001b[39m\u001b[38;5;124m\"\u001b[39m)\n\u001b[1;32m      9\u001b[0m element\u001b[38;5;241m.\u001b[39mclick()\n\u001b[0;32m---> 11\u001b[0m wait \u001b[38;5;241m=\u001b[39m \u001b[43mWebDriverWait\u001b[49m(driver, \u001b[38;5;241m30\u001b[39m, poll_frequency\u001b[38;5;241m=\u001b[39m\u001b[38;5;241m10\u001b[39m)\n\u001b[1;32m     12\u001b[0m \u001b[38;5;28;01mtry\u001b[39;00m:\n\u001b[1;32m     13\u001b[0m     element \u001b[38;5;241m=\u001b[39m wait\u001b[38;5;241m.\u001b[39muntil(\n\u001b[1;32m     14\u001b[0m         EC\u001b[38;5;241m.\u001b[39mpresence_of_element_located((By\u001b[38;5;241m.\u001b[39mID, element)))\n",
      "\u001b[0;31mNameError\u001b[0m: name 'WebDriverWait' is not defined"
     ]
    }
   ],
   "source": [
    "import time\n",
    "from selenium import webdriver\n",
    "\n",
    "driver = webdriver.Safari()\n",
    "driver.get('https://homer.sii.cl')\n",
    "\n",
    "\n",
    "element = driver.find_element(\"id\", \"sinAutenticacion\")\n",
    "element.click()\n",
    "\n",
    "wait = WebDriverWait(driver, 30, poll_frequency=10)\n",
    "try:\n",
    "    element = wait.until(\n",
    "        EC.presence_of_element_located((By.ID, element)))\n",
    "except TimeoutException:\n",
    "    time.sleep(delay)\n",
    "    try:\n",
    "        element = driver.find_element(By.ID, element)\n",
    "    except NoSuchElementException:\n",
    "        raise Exception(\n",
    "            f\"Elemento con id '{element_id}' no encontrado después de esperar {delay} segundos\")\n",
    "    element.send_keys(text)\n",
    "\n",
    "# Login aplicación\n",
    "# Usuario\n",
    "element = driver.find_element(\"id\", \"rutcntr\")\n",
    "element.click()\n",
    "element.send_keys(\"\")\n",
    "\n",
    "# Contraseña\n",
    "element = driver.find_element(\"id\", \"clave\")\n",
    "element.click()\n",
    "element.send_keys(\"\")\n",
    "\n",
    "element = driver.find_element(\"id\", \"bt_ingresar\")\n",
    "element.click()\n",
    "\n",
    "driver.close()\n",
    "driver.quit()"
   ]
  }
 ],
 "metadata": {
  "kernelspec": {
   "display_name": "Python 3",
   "language": "python",
   "name": "python3"
  },
  "language_info": {
   "codemirror_mode": {
    "name": "ipython",
    "version": 3
   },
   "file_extension": ".py",
   "mimetype": "text/x-python",
   "name": "python",
   "nbconvert_exporter": "python",
   "pygments_lexer": "ipython3",
   "version": "3.12.3"
  }
 },
 "nbformat": 4,
 "nbformat_minor": 2
}
